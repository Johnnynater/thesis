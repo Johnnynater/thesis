{
 "cells": [
  {
   "cell_type": "code",
   "execution_count": 1,
   "metadata": {},
   "outputs": [],
   "source": [
    "from sklearn.tree import DecisionTreeClassifier\n",
    "from sklearn.ensemble import RandomForestClassifier, GradientBoostingClassifier\n",
    "from sklearn.model_selection import train_test_split\n",
    "from sklearn import metrics\n",
    "import pandas as pd\n",
    "import pickle as pkl"
   ]
  },
  {
   "cell_type": "code",
   "execution_count": 3,
   "metadata": {},
   "outputs": [
    {
     "name": "stdout",
     "output_type": "stream",
     "text": [
      "      size     ratio  name  keyword  common\n",
      "0      480  0.020833     0        0       0\n",
      "1      480  0.022917     1        0       0\n",
      "2      480  0.006250     0        1       0\n",
      "3      480  0.010417     0        0       0\n",
      "4      480  0.006250     0        0       0\n",
      "..     ...       ...   ...      ...     ...\n",
      "96   48895  0.000102     0        0       0\n",
      "97   48895  0.004520     0        0       0\n",
      "98   48895  0.000061     1        0       0\n",
      "99    1000  0.002000     1        0       0\n",
      "100  18207  0.005492     0        0       0\n",
      "\n",
      "[101 rows x 5 columns]\n",
      "0      1\n",
      "1      1\n",
      "2      0\n",
      "3      0\n",
      "4      1\n",
      "      ..\n",
      "96     1\n",
      "97     1\n",
      "98     1\n",
      "99     1\n",
      "100    0\n",
      "Name: label, Length: 101, dtype: int64\n"
     ]
    }
   ],
   "source": [
    "data = pd.read_csv(r'../datasets/RF-dataset.csv')\n",
    "for colname in ['name', 'keyword', 'common']:\n",
    "    data[colname] = data[colname].astype(int)\n",
    "data['label'] = [1 if x == 'nominal' else 0 for x in data['label']]\n",
    "#X, y = data.iloc[:, :-1], data['label']\n",
    "#X_train, X_test, y_train, y_test = train_test_split(X, y, test_size=0.3)\n",
    "X_train, X_test, y_train, y_test = data.iloc[:101, :-1], data.iloc[102:, :-1], data.iloc[:101, -1], data.iloc[102:, -1] \n",
    "print(X_train)\n",
    "print(y_train)"
   ]
  },
  {
   "cell_type": "code",
   "execution_count": 4,
   "metadata": {},
   "outputs": [
    {
     "name": "stdout",
     "output_type": "stream",
     "text": [
      "Accuracy: 0.9523809523809523\n",
      "F1: 0.967741935483871\n"
     ]
    }
   ],
   "source": [
    "#clf = RandomForestClassifier(n_estimators=300)\n",
    "clf = GradientBoostingClassifier(max_depth=2)\n",
    "clf.fit(X_train, y_train)\n",
    "y_pred = clf.predict(X_test)\n",
    "print(\"Accuracy:\", metrics.accuracy_score(y_test, y_pred))\n",
    "print(\"F1:\", metrics.f1_score(y_test, y_pred))"
   ]
  },
  {
   "cell_type": "code",
   "execution_count": 5,
   "metadata": {},
   "outputs": [],
   "source": [
    "pkl.dump(clf, open('trained_gbc.sav', 'wb'))"
   ]
  },
  {
   "cell_type": "code",
   "execution_count": null,
   "metadata": {},
   "outputs": [],
   "source": []
  },
  {
   "cell_type": "code",
   "execution_count": null,
   "metadata": {},
   "outputs": [],
   "source": []
  }
 ],
 "metadata": {
  "kernelspec": {
   "display_name": "Python 3",
   "language": "python",
   "name": "python3"
  },
  "language_info": {
   "codemirror_mode": {
    "name": "ipython",
    "version": 3
   },
   "file_extension": ".py",
   "mimetype": "text/x-python",
   "name": "python",
   "nbconvert_exporter": "python",
   "pygments_lexer": "ipython3",
   "version": "3.7.4"
  }
 },
 "nbformat": 4,
 "nbformat_minor": 4
}
