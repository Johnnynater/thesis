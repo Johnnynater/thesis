{
 "cells": [
  {
   "cell_type": "code",
   "execution_count": 38,
   "metadata": {},
   "outputs": [],
   "source": [
    "from sklearn.tree import DecisionTreeClassifier\n",
    "from sklearn.ensemble import RandomForestClassifier, GradientBoostingClassifier\n",
    "from sklearn.model_selection import train_test_split, LeaveOneOut, cross_val_score, cross_val_predict\n",
    "from sklearn import metrics\n",
    "import numpy as np\n",
    "import pandas as pd\n",
    "import pickle as pkl\n",
    "import ast\n",
    "import re"
   ]
  },
  {
   "cell_type": "code",
   "execution_count": 101,
   "metadata": {},
   "outputs": [],
   "source": [
    "## OLD FUNCTION\n",
    "# data = pd.read_csv(r'../datasets/RF-dataset.csv')\n",
    "# for colname in ['name', 'keyword', 'common']:\n",
    "#     data[colname] = data[colname].astype(int)\n",
    "# data['label'] = [1 if x == 'nominal' else 0 for x in data['label']]\n",
    "# #X, y = data.iloc[:, :-1], data['label']\n",
    "# #X_train, X_test, y_train, y_test = train_test_split(X, y, test_size=0.3)\n",
    "# X_train, X_test, y_train, y_test = data.iloc[:101, :-1], data.iloc[102:, :-1], data.iloc[:101, -1], data.iloc[102:, -1] \n",
    "# print(X_train)\n",
    "# print(y_train)"
   ]
  },
  {
   "cell_type": "code",
   "execution_count": 3,
   "metadata": {},
   "outputs": [
    {
     "name": "stdout",
     "output_type": "stream",
     "text": [
      "    total_entries  unique_entries     ratio     variance  name_nom  name_ord  key_ord  common\n",
      "0           48691           47685  0.979339  3337.245700         1         0        0       0\n",
      "1           48691           11386  0.233842  3992.517869         1         0        0       0\n",
      "2           48691              76  0.001561    17.520780         1         0        0       0\n",
      "3           48691             223  0.004580    55.020775         0         0        0       0\n",
      "4           48691               3  0.000062     0.245778         1         0        0       0\n",
      "5           19158             123  0.006420     2.897103         1         0        0       0\n",
      "6           19158               6  0.000313     1.355629         0         0        0       0\n",
      "7           19158               6  0.000313     1.296207         1         0        0       0\n",
      "8             205             126  0.614634    42.625985         1         0        0       0\n",
      "9            2405              99  0.041164    18.601082         0         0        0       0\n",
      "10            558             384  0.688172   104.797733         1         0        0       0\n",
      "11            558              51  0.091398    18.781289         0         0        0       0\n",
      "12            174              17  0.097701     4.529675         0         0        0       0\n",
      "13            174              48  0.275862     8.313358         1         0        0       0\n",
      "14           6896               4  0.000580     0.375419         0         0        1       0\n",
      "15           6896              17  0.002465     0.959470         0         0        0       0\n",
      "16           6896              17  0.002465     0.816398         0         0        0       0\n",
      "17          18207             164  0.009008    45.460641         1         0        0       0\n",
      "18          18207             651  0.035755   183.302172         0         0        0       0\n",
      "19           5110               5  0.000978     0.695221         1         0        0       0\n",
      "20           5110               4  0.000783     0.587823         0         0        0       0\n",
      "21           1470               3  0.002041     0.556686         0         0        0       0\n",
      "22           1470               6  0.004082     1.010712         0         0        0       0\n",
      "23           1470               9  0.006122     1.589495         1         0        0       0\n",
      "24         322971             158  0.000489    53.040064         1         0        0       0\n",
      "25         322971              15  0.000046     4.146007         1         0        0       0\n",
      "26         322971              13  0.000040     2.569028         0         0        0       0\n",
      "27         322971              21  0.000065     8.279578         1         0        0       0\n",
      "28           8124               2  0.000246     0.316531         0         0        0       0\n",
      "29           8124               6  0.000739     0.795070         0         0        0       0\n",
      "30           8124               4  0.000492     0.707481         0         0        0       0\n",
      "31           8124              10  0.001231     2.152068         1         0        0       0\n",
      "32           8124               2  0.000246     0.202881         0         0        0       0\n",
      "33           8124               9  0.001108     1.999338         0         0        0       0\n",
      "34           8124               2  0.000246     0.378259         0         0        0       0\n",
      "35           8124               2  0.000246     0.202676         0         0        0       0\n",
      "36           8124               2  0.000246     0.183461         0         1        0       0\n",
      "37           8124              12  0.001477     2.315619         1         0        0       0\n",
      "38           8124               2  0.000246     0.194506         0         0        0       0\n",
      "39           8124               5  0.000615     1.244089         0         0        0       0\n",
      "40           8124               4  0.000492     0.702338         0         0        0       0\n",
      "41           8124               4  0.000492     0.702338         0         0        0       0\n",
      "42           8124               9  0.001108     1.783878         1         0        0       0\n",
      "43           8124               9  0.001108     1.783878         1         0        0       0\n",
      "44           8124               1  0.000123     0.000000         1         0        0       0\n",
      "45           8124               4  0.000492     0.609856         1         0        0       0\n",
      "46           8124               3  0.000369     0.352135         0         0        0       0\n",
      "47           8124               5  0.000615     0.799322         1         0        0       0\n",
      "48           8124               9  0.001108     1.628944         1         0        0       0\n",
      "49           8124               6  0.000739     1.626178         0         0        0       0\n",
      "50           8124               7  0.000862     1.234489         0         0        0       0\n",
      "51            800              18  0.022500     5.182618         1         0        0       0\n",
      "52            800              18  0.022500     5.182618         1         0        0       0\n",
      "53             61               8  0.131148     2.181268         1         0        0       0\n",
      "54             61              24  0.393443     2.929508         0         0        0       0\n",
      "55           1968             318  0.161585   102.230694         0         0        0       0\n",
      "56           1968            1878  0.954268   195.057551         0         0        0       0\n",
      "57           1968               7  0.003557     1.863222         0         0        0       0\n",
      "58           1968              37  0.018801     9.882855         1         0        0       0\n",
      "59           1000               5  0.005000     0.286778         1         0        0       0\n",
      "60         127016              43  0.000339    11.074540         1         0        0       0\n",
      "61         127016             423  0.003330   144.337821         0         0        0       0\n",
      "62         127016            1225  0.009644   327.274683         0         0        0       0\n",
      "63         127016             698  0.005495   216.865360         0         0        0       0\n",
      "64            480              14  0.029167     4.026656         1         0        0       0\n",
      "65            480              10  0.020833     0.367264         0         1        0       0\n",
      "66            480               3  0.006250     0.484765         0         0        0       0\n",
      "67            480              12  0.025000     4.197331         0         0        0       0\n",
      "0             200               5  0.025000     1.106709         0         0        0       0\n",
      "1             200               4  0.020000     0.678580         0         0        0       0\n",
      "2             200               4  0.020000     0.678580         0         0        0       0\n",
      "3             200               5  0.025000     1.476931         0         0        0       0\n",
      "4             200               4  0.020000     0.678580         0         0        0       0\n",
      "5             200               4  0.020000     0.678580         0         0        0       0\n",
      "6             200               7  0.035000     1.375801         0         0        1       0\n",
      "7             132               4  0.030303     0.698523         0         1        0       0\n",
      "8             132               4  0.030303     0.351358         0         1        1       0\n",
      "9             132               4  0.030303     0.924570         0         0        0       0\n",
      "10           1728               4  0.002315     1.501360         0         0        1       0\n",
      "11           1728               4  0.002315     1.501360         0         0        1       0\n",
      "12           1728               4  0.002315     0.930266         0         0        1       0\n",
      "13           1728               3  0.001736     0.422129         0         0        1       0\n",
      "14           1728               3  0.001736     0.844817         0         0        0       0\n",
      "15           1728               3  0.001736     0.729142         0         0        1       0\n",
      "16           1728               4  0.002315     1.394581         0         0        1       0\n",
      "17          12960               5  0.000386     0.690801         0         0        1       0\n",
      "18          12960               4  0.000309     0.660942         0         0        0       0\n",
      "19          12960               4  0.000309     0.495033         0         0        1       0\n",
      "20          12960               3  0.000231     0.415985         0         0        1       0\n",
      "21          12960               2  0.000154     0.261135         0         0        0       0\n",
      "22          12960               3  0.000231     0.471974         0         0        1       0\n",
      "23          12960               3  0.000231     0.303682         0         0        0       0\n",
      "24          12960               5  0.000386     0.583021         0         0        1       0\n",
      "25            307               3  0.009772     0.171021         0         0        0       0\n",
      "26            307               3  0.009772     0.171021         0         0        0       0\n",
      "27            307               4  0.013029     0.163287         0         0        0       0\n",
      "28            307               4  0.013029     0.461683         1         0        1       0\n",
      "29            307               3  0.009772     0.363653         0         0        0       0\n",
      "30            307               4  0.013029     0.420644         0         0        1       0\n",
      "31         714992               4  0.000006     0.635998         1         0        0       0\n",
      "32         714992               4  0.000006     0.635998         1         0        0       0\n",
      "33         714992               5  0.000007     0.015795         1         0        1       0\n",
      "34         714992               4  0.000006     0.463611         0         0        0       0\n",
      "35         747137              19  0.000025     2.420329         0         1        0       0\n",
      "36        1048575               5  0.000005     0.718487         0         1        1       0\n",
      "37           9649               4  0.000415     0.684813         0         1        1       0\n",
      "38           9649               4  0.000415     0.062948         0         0        0       0\n",
      "39           9649               5  0.000518     0.026725         0         0        1       0\n",
      "40           9649               3  0.000311     0.093094         1         0        0       0\n",
      "41            426               7  0.016432     0.139794         0         0        0       0\n",
      "42            426               7  0.016432     0.139794         0         0        0       0\n",
      "43            426               5  0.011737     0.293977         0         0        1       0\n",
      "44            426               6  0.014085     0.048623         0         0        1       0\n",
      "45            426               5  0.011737     0.071583         0         0        1       0\n",
      "46            426               5  0.011737     0.015226         0         0        1       0\n",
      "47            426               3  0.007042     0.060397         0         0        1       0\n",
      "48            426               4  0.009390     0.040876         0         0        1       0\n",
      "49            426               7  0.016432     0.217876         0         0        1       0\n",
      "50            426              35  0.082160     0.885751         0         0        0       0\n",
      "51            426               6  0.014085     0.560162         0         0        1       0\n",
      "52            426               6  0.014085     0.560162         0         0        1       0\n",
      "53            426               6  0.014085     0.560162         0         0        1       0\n",
      "54            426              18  0.042254     0.501784         0         0        1       0\n",
      "55            426               4  0.009390     0.062045         0         0        1       0\n",
      "56            426               5  0.011737     0.224477         0         1        1       0\n",
      "57            426               5  0.011737     0.147137         0         0        1       0\n",
      "58            426               5  0.011737     0.147137         0         0        1       0\n",
      "59            426               5  0.011737     0.147137         0         0        1       0\n",
      "60            426               5  0.011737     0.163068         0         0        1       0\n",
      "61            426               6  0.014085     0.215705         1         0        0       0\n",
      "62            426               6  0.014085     0.443547         0         0        1       0\n",
      "63            426               6  0.014085     0.110795         0         0        0       0\n",
      "64            426               4  0.009390     0.066049         0         0        0       0\n",
      "65            426               5  0.011737     0.081902         0         0        0       0\n",
      "66            426               6  0.014085     0.128568         0         0        1       0\n",
      "67            426               7  0.016432     0.078478         0         0        1       0\n",
      "68            426               6  0.014085     0.151639         0         0        1       0\n",
      "69            426               8  0.018779     0.192667         0         0        1       0\n",
      "70            426               4  0.009390     0.092797         0         0        0       0\n",
      "71            426               4  0.009390     0.086587         1         0        0       0\n",
      "72            426               7  0.016432     0.182312         0         0        1       0\n",
      "73            426               5  0.011737     0.118323         1         0        0       0\n",
      "74            426               5  0.011737     0.118323         1         0        0       0\n",
      "75            426               5  0.011737     0.118323         1         0        0       0\n",
      "76            426               5  0.011737     0.093681         0         0        1       0\n",
      "77            323               2  0.006192     0.256610         0         0        0       0\n",
      "78            323               3  0.009288     0.431876         0         0        0       0\n",
      "79            323               2  0.006192     0.025594         1         0        1       0\n",
      "80            323               2  0.006192     0.017076         1         0        0       0\n"
     ]
    }
   ],
   "source": [
    "# Import nominal and ordinal data gathered from src/gbc/heuristics.py\n",
    "data_nom = pd.read_csv(r'../datasets/out_nominal.csv')\n",
    "data_ord = pd.read_csv(r'../datasets/out_ordinal.csv')\n",
    "data = pd.concat([data_nom, data_ord])\n",
    "\n",
    "# Convert False/True to 0/1\n",
    "for colname in ['name_nom','name_ord','key_nom','key_ord','common']:\n",
    "    data[colname] = data[colname].astype(int)\n",
    "\n",
    "# Take the mean of the variance, since there will be issues regarding the dimensionality otherwise\n",
    "data['variance'] = data['variance'].apply(lambda x: np.mean(list(map(float, x.split('[')[1].split(']')[0].split()))))\n",
    "data['label'] = [1 if x == 'nominal' else 0 for x in data['label']]\n",
    "\n",
    "# Drop key_nom, as this feature is not used\n",
    "data = data.drop('key_nom',axis=1)\n",
    "\n",
    "# Split into data + label\n",
    "X, y = data.iloc[:, :-1], data['label']\n",
    "X_train, X_test, y_train, y_test = train_test_split(X, y, test_size=0.3)\n",
    "\n",
    "print(X.to_string())\n",
    "# print(X_train, X_test, y_train, y_test)"
   ]
  },
  {
   "cell_type": "code",
   "execution_count": 102,
   "metadata": {},
   "outputs": [
    {
     "name": "stdout",
     "output_type": "stream",
     "text": [
      "Accuracy: 1.0\n",
      "F1: 1.0\n"
     ]
    }
   ],
   "source": [
    "# Old classifier, not used anymore\n",
    "#clf = RandomForestClassifier(n_estimators=300)\n",
    "\n",
    "# Initialize the GBC and fit the model, then estimate its accuracy + F1-score\n",
    "clf = GradientBoostingClassifier()\n",
    "clf.fit(X_train, y_train)\n",
    "y_pred = clf.predict(X_test)\n",
    "print(\"Accuracy:\", metrics.accuracy_score(y_test, y_pred))\n",
    "print(\"F1:\", metrics.f1_score(y_test, y_pred))"
   ]
  },
  {
   "cell_type": "code",
   "execution_count": 5,
   "metadata": {},
   "outputs": [],
   "source": [
    "# Save the model\n",
    "pkl.dump(clf, open('trained_gbc.sav', 'wb'))"
   ]
  },
  {
   "cell_type": "code",
   "execution_count": 13,
   "metadata": {},
   "outputs": [
    {
     "name": "stdout",
     "output_type": "stream",
     "text": [
      "Accuracy: 0.980\n",
      "F1: 0.9781021897810219\n"
     ]
    }
   ],
   "source": [
    "# Estimate the model's performance using LOOCV, which might be more reliable given that we have little data\n",
    "loo = LeaveOneOut()\n",
    "y_true, y_pred = list(), list()\n",
    "\n",
    "# Copied from https://machinelearningmastery.com/loocv-for-evaluating-machine-learning-algorithms/\n",
    "for train_ix, test_ix in loo.split(X):\n",
    "    # split data\n",
    "    X_train, X_test = X.iloc[list(train_ix), :], X.iloc[test_ix, :]\n",
    "    y_train, y_test = y.iloc[train_ix], y.iloc[test_ix]\n",
    "    # fit model\n",
    "    clf = GradientBoostingClassifier(max_depth=2, random_state=1)\n",
    "    clf.fit(X_train, y_train)\n",
    "    # evaluate model\n",
    "    yhat = clf.predict(X_test)\n",
    "    # store\n",
    "    y_true.append(y_test.tolist()[0])\n",
    "    y_pred.append(yhat[0])\n",
    "\n",
    "# Evaluate our findings\n",
    "acc = metrics.accuracy_score(y_true, y_pred)\n",
    "print('Accuracy: %.3f' % acc)\n",
    "print(\"F1:\", metrics.f1_score(y_true, y_pred))"
   ]
  },
  {
   "cell_type": "code",
   "execution_count": 95,
   "metadata": {},
   "outputs": [
    {
     "name": "stdout",
     "output_type": "stream",
     "text": [
      "Accuracy: 1.0\n",
      "F1: 1.0\n"
     ]
    }
   ],
   "source": [
    "# Now with test set = columns from datasets not considered in training data\n",
    "X = pd.concat([data.iloc[15:, :-1], data.iloc[:88, :-1], data.iloc[103:, :-1]])\n",
    "X_eval = pd.concat([data.iloc[:15, :-1], data.iloc[88:103, :-1]])\n",
    "y = pd.concat([data.iloc[15:, -1], data.iloc[:88, -1], data.iloc[103:, -1]])\n",
    "y_eval = pd.concat([data.iloc[:15, -1], data.iloc[88:103, -1]])\n",
    "\n",
    "# Initialize + fit model + evaluate our findings\n",
    "clf = GradientBoostingClassifier(max_depth=2)\n",
    "clf.fit(X, y)\n",
    "y_pred = clf.predict(X_eval)\n",
    "print(\"Accuracy:\", metrics.accuracy_score(y_eval, y_pred))\n",
    "print(\"F1:\", metrics.f1_score(y_eval, y_pred))"
   ]
  },
  {
   "cell_type": "code",
   "execution_count": 33,
   "metadata": {},
   "outputs": [
    {
     "name": "stdout",
     "output_type": "stream",
     "text": [
      "now doing lr: 0.005\n",
      "Accuracy: 0.745 (0.436)\n",
      "Accuracy: 0.926 (0.261)\n",
      "Accuracy: 0.926 (0.261)\n",
      "Accuracy: 0.926 (0.261)\n",
      "Accuracy: 0.960 (0.197)\n",
      "Accuracy: 0.926 (0.261)\n",
      "Accuracy: 0.960 (0.197)\n",
      "Accuracy: 0.960 (0.197)\n",
      "now doing lr: 0.01\n",
      "Accuracy: 0.919 (0.272)\n",
      "Accuracy: 0.926 (0.261)\n",
      "Accuracy: 0.926 (0.261)\n",
      "Accuracy: 0.960 (0.197)\n",
      "Accuracy: 0.960 (0.197)\n",
      "Accuracy: 0.960 (0.197)\n",
      "Accuracy: 0.973 (0.162)\n",
      "Accuracy: 0.973 (0.162)\n",
      "now doing lr: 0.05\n",
      "Accuracy: 0.960 (0.197)\n",
      "Accuracy: 0.973 (0.162)\n",
      "Accuracy: 0.973 (0.162)\n",
      "Accuracy: 0.973 (0.162)\n",
      "Accuracy: 0.973 (0.162)\n",
      "Accuracy: 0.980 (0.140)\n",
      "Accuracy: 0.980 (0.140)\n",
      "Accuracy: 0.980 (0.140)\n",
      "now doing lr: 0.1\n",
      "Accuracy: 0.973 (0.162)\n",
      "Accuracy: 0.973 (0.162)\n",
      "Accuracy: 0.980 (0.140)\n",
      "Accuracy: 0.980 (0.140)\n",
      "Accuracy: 0.980 (0.140)\n",
      "Accuracy: 0.980 (0.140)\n",
      "Accuracy: 0.980 (0.140)\n",
      "Accuracy: 0.980 (0.140)\n",
      "now doing lr: 0.2\n",
      "Accuracy: 0.980 (0.140)\n",
      "Accuracy: 0.980 (0.140)\n",
      "Accuracy: 0.980 (0.140)\n",
      "Accuracy: 0.973 (0.162)\n",
      "Accuracy: 0.973 (0.162)\n",
      "Accuracy: 0.973 (0.162)\n",
      "Accuracy: 0.973 (0.162)\n",
      "Accuracy: 0.973 (0.162)\n",
      "now doing lr: 0.3\n",
      "Accuracy: 0.980 (0.140)\n",
      "Accuracy: 0.980 (0.140)\n",
      "Accuracy: 0.987 (0.115)\n",
      "Accuracy: 0.987 (0.115)\n",
      "Accuracy: 0.987 (0.115)\n",
      "Accuracy: 0.987 (0.115)\n",
      "Accuracy: 0.987 (0.115)\n",
      "Accuracy: 0.987 (0.115)\n",
      "now doing lr: 0.5\n",
      "Accuracy: 0.973 (0.162)\n",
      "Accuracy: 0.973 (0.162)\n",
      "Accuracy: 0.973 (0.162)\n",
      "Accuracy: 0.973 (0.162)\n",
      "Accuracy: 0.973 (0.162)\n",
      "Accuracy: 0.973 (0.162)\n",
      "Accuracy: 0.973 (0.162)\n",
      "Accuracy: 0.973 (0.162)\n"
     ]
    }
   ],
   "source": [
    "# Same as the LOOCV in the above cells, but more compact.\n",
    "from numpy import mean, std\n",
    "\n",
    "ests = [25, 50, 75, 100, 125, 150, 175, 200]\n",
    "# depths = [1, 2, 3, 4, 5, 6, 7, 8, 9, 10]\n",
    "lrs = [0.005, 0.01, 0.05, 0.1, 0.2, 0.3, 0.5]\n",
    "scores_lst = []\n",
    "for j in lrs:\n",
    "    print('now doing lr:', j)\n",
    "    for i in ests:\n",
    "        X, y = data.iloc[:, :-1], data['label']\n",
    "        cv = LeaveOneOut()\n",
    "        clf = GradientBoostingClassifier(random_state=0, learning_rate=j, n_estimators=i)\n",
    "        scores = cross_val_score(clf, X, y, scoring='accuracy', cv=cv, n_jobs=-1)\n",
    "        print('Accuracy: %.3f (%.3f)' % (mean(scores), std(scores)))\n",
    "    \n",
    "# # Save this model\n",
    "# clf.fit(X, y)\n",
    "# pkl.dump(clf, open('trained_gbc.sav', 'wb'))"
   ]
  },
  {
   "cell_type": "code",
   "execution_count": 39,
   "metadata": {},
   "outputs": [],
   "source": [
    "from sklearn.metrics import confusion_matrix"
   ]
  },
  {
   "cell_type": "code",
   "execution_count": 54,
   "metadata": {},
   "outputs": [],
   "source": [
    "# Confusion matrix + F1\n",
    "X, y = data.iloc[:, :-1], data['label']\n",
    "cv = LeaveOneOut()\n",
    "clf = GradientBoostingClassifier(random_state=0)\n",
    "scores = cross_val_predict(clf, X, y, cv=cv, n_jobs=-1)\n",
    "conf_mat = confusion_matrix(y, y_pred)\n"
   ]
  },
  {
   "cell_type": "code",
   "execution_count": 56,
   "metadata": {},
   "outputs": [
    {
     "name": "stdout",
     "output_type": "stream",
     "text": [
      "[[79  2]\n",
      " [ 1 67]]\n",
      "F1: 0.9781021897810219\n",
      "Precision: 0.9710144927536232\n",
      "Recall: 0.9852941176470589\n",
      "ROC_AUC: 0.9803013798111837\n",
      "(array([0.        , 0.02469136, 1.        ]), array([0.        , 0.98529412, 1.        ]), array([2, 1, 0], dtype=int64))\n"
     ]
    },
    {
     "data": {
      "text/plain": [
       "<sklearn.metrics._plot.roc_curve.RocCurveDisplay at 0x155216c7c08>"
      ]
     },
     "execution_count": 56,
     "metadata": {},
     "output_type": "execute_result"
    },
    {
     "data": {
      "image/png": "[encoded data removed]",
      "text/plain": [
       "<Figure size 432x288 with 1 Axes>"
      ]
     },
     "metadata": {
      "needs_background": "light"
     },
     "output_type": "display_data"
    }
   ],
   "source": [
    "clf.fit(X, y)\n",
    "print(conf_mat)\n",
    "print(\"F1:\", metrics.f1_score(y, y_pred))\n",
    "print('Precision:', metrics.precision_score(y, y_pred))\n",
    "print('Recall:', metrics.recall_score(y, y_pred))\n",
    "print('ROC_AUC:', metrics.roc_auc_score(y, y_pred))\n",
    "print(metrics.roc_curve(y, y_pred))\n",
    "metrics.plot_roc_curve(clf, X, y)"
   ]
  },
  {
   "cell_type": "code",
   "execution_count": null,
   "metadata": {},
   "outputs": [],
   "source": []
  }
 ],
 "metadata": {
  "kernelspec": {
   "display_name": "Python 3",
   "language": "python",
   "name": "python3"
  },
  "language_info": {
   "codemirror_mode": {
    "name": "ipython",
    "version": 3
   },
   "file_extension": ".py",
   "mimetype": "text/x-python",
   "name": "python",
   "nbconvert_exporter": "python",
   "pygments_lexer": "ipython3",
   "version": "3.7.4"
  }
 },
 "nbformat": 4,
 "nbformat_minor": 4
}
